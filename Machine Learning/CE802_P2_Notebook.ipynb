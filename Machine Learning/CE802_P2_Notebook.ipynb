{
  "cells": [
    {
      "cell_type": "markdown",
      "metadata": {
        "id": "UFy6_0X6amz1"
      },
      "source": [
        "### Part A"
      ]
    },
    {
      "cell_type": "code",
      "execution_count": 94,
      "metadata": {
        "id": "zf0nHqNbamz3"
      },
      "outputs": [],
      "source": [
        "# HERE YOU WILL WRITE CODE TO TEST A NUMBER OF PREDICTORS\n",
        "# AND FINALLY CHOOSE AND TRAIN THE PREDICTOR THAT YOU WILL BE USING FOR PART B"
      ]
    },
    {
      "cell_type": "code",
      "source": [
        "import pandas as pd\n",
        "import numpy as np\n",
        "\n",
        "from sklearn.impute import SimpleImputer\n",
        "from sklearn.preprocessing import StandardScaler, LabelEncoder\n",
        "from sklearn.neighbors import LocalOutlierFactor, KNeighborsClassifier\n",
        "from sklearn.linear_model import LinearRegression \n",
        "from sklearn.naive_bayes import GaussianNB\n",
        "import missingno as msno\n",
        "\n",
        "import seaborn as sns\n",
        "from xgboost import XGBClassifier\n",
        "from sklearn.tree import DecisionTreeClassifier\n",
        "from sklearn.ensemble import RandomForestClassifier\n",
        "from sklearn.svm import SVC\n",
        "from sklearn.model_selection import train_test_split, GridSearchCV, cross_val_score\n",
        "from sklearn.pipeline import Pipeline\n",
        "from sklearn.metrics import accuracy_score, classification_report\n",
        "\n",
        "import matplotlib.pyplot as plt"
      ],
      "metadata": {
        "id": "V5gnMb2Xndkj"
      },
      "execution_count": 8,
      "outputs": []
    },
    {
      "cell_type": "code",
      "source": [
        "d_train = pd.read_csv('/content/CE802_P2_Data.csv')\n",
        "#d_test = pd.read_csv('/content/CE802_P2_Test.csv')"
      ],
      "metadata": {
        "id": "hWC7t4FQnh1u"
      },
      "execution_count": 9,
      "outputs": []
    },
    {
      "cell_type": "code",
      "source": [
        "d_train.head()"
      ],
      "metadata": {
        "colab": {
          "base_uri": "https://localhost:8080/",
          "height": 256
        },
        "id": "E2d20pD9niRL",
        "outputId": "9143b203-abce-4cad-f405-92d8f9ee2d55"
      },
      "execution_count": 10,
      "outputs": [
        {
          "output_type": "execute_result",
          "data": {
            "text/html": [
              "\n",
              "  <div id=\"df-1a323f42-ab02-429d-942b-049587d62a98\">\n",
              "    <div class=\"colab-df-container\">\n",
              "      <div>\n",
              "<style scoped>\n",
              "    .dataframe tbody tr th:only-of-type {\n",
              "        vertical-align: middle;\n",
              "    }\n",
              "\n",
              "    .dataframe tbody tr th {\n",
              "        vertical-align: top;\n",
              "    }\n",
              "\n",
              "    .dataframe thead th {\n",
              "        text-align: right;\n",
              "    }\n",
              "</style>\n",
              "<table border=\"1\" class=\"dataframe\">\n",
              "  <thead>\n",
              "    <tr style=\"text-align: right;\">\n",
              "      <th></th>\n",
              "      <th>F1</th>\n",
              "      <th>F2</th>\n",
              "      <th>F3</th>\n",
              "      <th>F4</th>\n",
              "      <th>F5</th>\n",
              "      <th>F6</th>\n",
              "      <th>F7</th>\n",
              "      <th>F8</th>\n",
              "      <th>F9</th>\n",
              "      <th>F10</th>\n",
              "      <th>F11</th>\n",
              "      <th>F12</th>\n",
              "      <th>F13</th>\n",
              "      <th>F14</th>\n",
              "      <th>F15</th>\n",
              "      <th>F16</th>\n",
              "      <th>F17</th>\n",
              "      <th>F18</th>\n",
              "      <th>F19</th>\n",
              "      <th>F20</th>\n",
              "      <th>F21</th>\n",
              "      <th>Class</th>\n",
              "    </tr>\n",
              "  </thead>\n",
              "  <tbody>\n",
              "    <tr>\n",
              "      <th>0</th>\n",
              "      <td>-28703.964</td>\n",
              "      <td>0.73</td>\n",
              "      <td>-4.051752</td>\n",
              "      <td>-6.99630</td>\n",
              "      <td>1473.45</td>\n",
              "      <td>0</td>\n",
              "      <td>4.40510</td>\n",
              "      <td>16004.16</td>\n",
              "      <td>1</td>\n",
              "      <td>-11645.820</td>\n",
              "      <td>-1.33420</td>\n",
              "      <td>24.44400</td>\n",
              "      <td>-13.735</td>\n",
              "      <td>5.9854</td>\n",
              "      <td>14.24730</td>\n",
              "      <td>1.4892</td>\n",
              "      <td>9959.04</td>\n",
              "      <td>-3199.35</td>\n",
              "      <td>6.8670</td>\n",
              "      <td>-4850.82</td>\n",
              "      <td>NaN</td>\n",
              "      <td>False</td>\n",
              "    </tr>\n",
              "    <tr>\n",
              "      <th>1</th>\n",
              "      <td>-28726.730</td>\n",
              "      <td>1.73</td>\n",
              "      <td>-5.153000</td>\n",
              "      <td>-4.27404</td>\n",
              "      <td>783.15</td>\n",
              "      <td>0</td>\n",
              "      <td>4.54500</td>\n",
              "      <td>16041.48</td>\n",
              "      <td>1</td>\n",
              "      <td>-9759.420</td>\n",
              "      <td>-1.60960</td>\n",
              "      <td>50.59500</td>\n",
              "      <td>-5.171</td>\n",
              "      <td>4.6222</td>\n",
              "      <td>14.99820</td>\n",
              "      <td>3.1206</td>\n",
              "      <td>10107.44</td>\n",
              "      <td>-3064.95</td>\n",
              "      <td>9.4710</td>\n",
              "      <td>378.78</td>\n",
              "      <td>NaN</td>\n",
              "      <td>True</td>\n",
              "    </tr>\n",
              "    <tr>\n",
              "      <th>2</th>\n",
              "      <td>-28717.120</td>\n",
              "      <td>0.73</td>\n",
              "      <td>-8.440000</td>\n",
              "      <td>-8.25900</td>\n",
              "      <td>2573.95</td>\n",
              "      <td>0</td>\n",
              "      <td>3.59962</td>\n",
              "      <td>16422.78</td>\n",
              "      <td>0</td>\n",
              "      <td>-10775.220</td>\n",
              "      <td>-0.49086</td>\n",
              "      <td>38.82552</td>\n",
              "      <td>-38.650</td>\n",
              "      <td>4.4096</td>\n",
              "      <td>17.79000</td>\n",
              "      <td>1.9818</td>\n",
              "      <td>10971.04</td>\n",
              "      <td>-3638.85</td>\n",
              "      <td>2.0373</td>\n",
              "      <td>-5215.48</td>\n",
              "      <td>NaN</td>\n",
              "      <td>False</td>\n",
              "    </tr>\n",
              "    <tr>\n",
              "      <th>3</th>\n",
              "      <td>-81470.290</td>\n",
              "      <td>0.73</td>\n",
              "      <td>-4.386600</td>\n",
              "      <td>-5.57460</td>\n",
              "      <td>1499.68</td>\n",
              "      <td>0</td>\n",
              "      <td>3.56675</td>\n",
              "      <td>16270.04</td>\n",
              "      <td>1</td>\n",
              "      <td>-9416.714</td>\n",
              "      <td>-4.56800</td>\n",
              "      <td>39.59310</td>\n",
              "      <td>-8.639</td>\n",
              "      <td>8.5080</td>\n",
              "      <td>12.98424</td>\n",
              "      <td>11.5620</td>\n",
              "      <td>9681.10</td>\n",
              "      <td>724.95</td>\n",
              "      <td>2.0220</td>\n",
              "      <td>-4378.42</td>\n",
              "      <td>NaN</td>\n",
              "      <td>False</td>\n",
              "    </tr>\n",
              "    <tr>\n",
              "      <th>4</th>\n",
              "      <td>-28750.800</td>\n",
              "      <td>1.73</td>\n",
              "      <td>-4.650200</td>\n",
              "      <td>-4.33848</td>\n",
              "      <td>1409.15</td>\n",
              "      <td>1</td>\n",
              "      <td>5.07000</td>\n",
              "      <td>16548.78</td>\n",
              "      <td>1</td>\n",
              "      <td>-9797.820</td>\n",
              "      <td>-1.02500</td>\n",
              "      <td>39.95820</td>\n",
              "      <td>-14.730</td>\n",
              "      <td>5.5188</td>\n",
              "      <td>13.57260</td>\n",
              "      <td>2.5440</td>\n",
              "      <td>10965.64</td>\n",
              "      <td>-2607.15</td>\n",
              "      <td>4.3140</td>\n",
              "      <td>-1919.22</td>\n",
              "      <td>NaN</td>\n",
              "      <td>True</td>\n",
              "    </tr>\n",
              "  </tbody>\n",
              "</table>\n",
              "</div>\n",
              "      <button class=\"colab-df-convert\" onclick=\"convertToInteractive('df-1a323f42-ab02-429d-942b-049587d62a98')\"\n",
              "              title=\"Convert this dataframe to an interactive table.\"\n",
              "              style=\"display:none;\">\n",
              "        \n",
              "  <svg xmlns=\"http://www.w3.org/2000/svg\" height=\"24px\"viewBox=\"0 0 24 24\"\n",
              "       width=\"24px\">\n",
              "    <path d=\"M0 0h24v24H0V0z\" fill=\"none\"/>\n",
              "    <path d=\"M18.56 5.44l.94 2.06.94-2.06 2.06-.94-2.06-.94-.94-2.06-.94 2.06-2.06.94zm-11 1L8.5 8.5l.94-2.06 2.06-.94-2.06-.94L8.5 2.5l-.94 2.06-2.06.94zm10 10l.94 2.06.94-2.06 2.06-.94-2.06-.94-.94-2.06-.94 2.06-2.06.94z\"/><path d=\"M17.41 7.96l-1.37-1.37c-.4-.4-.92-.59-1.43-.59-.52 0-1.04.2-1.43.59L10.3 9.45l-7.72 7.72c-.78.78-.78 2.05 0 2.83L4 21.41c.39.39.9.59 1.41.59.51 0 1.02-.2 1.41-.59l7.78-7.78 2.81-2.81c.8-.78.8-2.07 0-2.86zM5.41 20L4 18.59l7.72-7.72 1.47 1.35L5.41 20z\"/>\n",
              "  </svg>\n",
              "      </button>\n",
              "      \n",
              "  <style>\n",
              "    .colab-df-container {\n",
              "      display:flex;\n",
              "      flex-wrap:wrap;\n",
              "      gap: 12px;\n",
              "    }\n",
              "\n",
              "    .colab-df-convert {\n",
              "      background-color: #E8F0FE;\n",
              "      border: none;\n",
              "      border-radius: 50%;\n",
              "      cursor: pointer;\n",
              "      display: none;\n",
              "      fill: #1967D2;\n",
              "      height: 32px;\n",
              "      padding: 0 0 0 0;\n",
              "      width: 32px;\n",
              "    }\n",
              "\n",
              "    .colab-df-convert:hover {\n",
              "      background-color: #E2EBFA;\n",
              "      box-shadow: 0px 1px 2px rgba(60, 64, 67, 0.3), 0px 1px 3px 1px rgba(60, 64, 67, 0.15);\n",
              "      fill: #174EA6;\n",
              "    }\n",
              "\n",
              "    [theme=dark] .colab-df-convert {\n",
              "      background-color: #3B4455;\n",
              "      fill: #D2E3FC;\n",
              "    }\n",
              "\n",
              "    [theme=dark] .colab-df-convert:hover {\n",
              "      background-color: #434B5C;\n",
              "      box-shadow: 0px 1px 3px 1px rgba(0, 0, 0, 0.15);\n",
              "      filter: drop-shadow(0px 1px 2px rgba(0, 0, 0, 0.3));\n",
              "      fill: #FFFFFF;\n",
              "    }\n",
              "  </style>\n",
              "\n",
              "      <script>\n",
              "        const buttonEl =\n",
              "          document.querySelector('#df-1a323f42-ab02-429d-942b-049587d62a98 button.colab-df-convert');\n",
              "        buttonEl.style.display =\n",
              "          google.colab.kernel.accessAllowed ? 'block' : 'none';\n",
              "\n",
              "        async function convertToInteractive(key) {\n",
              "          const element = document.querySelector('#df-1a323f42-ab02-429d-942b-049587d62a98');\n",
              "          const dataTable =\n",
              "            await google.colab.kernel.invokeFunction('convertToInteractive',\n",
              "                                                     [key], {});\n",
              "          if (!dataTable) return;\n",
              "\n",
              "          const docLinkHtml = 'Like what you see? Visit the ' +\n",
              "            '<a target=\"_blank\" href=https://colab.research.google.com/notebooks/data_table.ipynb>data table notebook</a>'\n",
              "            + ' to learn more about interactive tables.';\n",
              "          element.innerHTML = '';\n",
              "          dataTable['output_type'] = 'display_data';\n",
              "          await google.colab.output.renderOutput(dataTable, element);\n",
              "          const docLink = document.createElement('div');\n",
              "          docLink.innerHTML = docLinkHtml;\n",
              "          element.appendChild(docLink);\n",
              "        }\n",
              "      </script>\n",
              "    </div>\n",
              "  </div>\n",
              "  "
            ],
            "text/plain": [
              "          F1    F2        F3       F4  ...     F19      F20  F21  Class\n",
              "0 -28703.964  0.73 -4.051752 -6.99630  ...  6.8670 -4850.82  NaN  False\n",
              "1 -28726.730  1.73 -5.153000 -4.27404  ...  9.4710   378.78  NaN   True\n",
              "2 -28717.120  0.73 -8.440000 -8.25900  ...  2.0373 -5215.48  NaN  False\n",
              "3 -81470.290  0.73 -4.386600 -5.57460  ...  2.0220 -4378.42  NaN  False\n",
              "4 -28750.800  1.73 -4.650200 -4.33848  ...  4.3140 -1919.22  NaN   True\n",
              "\n",
              "[5 rows x 22 columns]"
            ]
          },
          "metadata": {},
          "execution_count": 10
        }
      ]
    },
    {
      "cell_type": "markdown",
      "source": [
        "Preprocessing"
      ],
      "metadata": {
        "id": "r00RNGu6q_M4"
      }
    },
    {
      "cell_type": "code",
      "source": [
        "d_train.info()"
      ],
      "metadata": {
        "colab": {
          "base_uri": "https://localhost:8080/"
        },
        "id": "u4eIy09qrisC",
        "outputId": "fc7c8287-4c73-4a40-ef14-ee2ccafcad27"
      },
      "execution_count": 4,
      "outputs": [
        {
          "output_type": "stream",
          "name": "stdout",
          "text": [
            "<class 'pandas.core.frame.DataFrame'>\n",
            "RangeIndex: 1000 entries, 0 to 999\n",
            "Data columns (total 22 columns):\n",
            " #   Column  Non-Null Count  Dtype  \n",
            "---  ------  --------------  -----  \n",
            " 0   F1      1000 non-null   float64\n",
            " 1   F2      1000 non-null   float64\n",
            " 2   F3      1000 non-null   float64\n",
            " 3   F4      1000 non-null   float64\n",
            " 4   F5      1000 non-null   float64\n",
            " 5   F6      1000 non-null   int64  \n",
            " 6   F7      1000 non-null   float64\n",
            " 7   F8      1000 non-null   float64\n",
            " 8   F9      1000 non-null   int64  \n",
            " 9   F10     1000 non-null   float64\n",
            " 10  F11     1000 non-null   float64\n",
            " 11  F12     1000 non-null   float64\n",
            " 12  F13     1000 non-null   float64\n",
            " 13  F14     1000 non-null   float64\n",
            " 14  F15     1000 non-null   float64\n",
            " 15  F16     1000 non-null   float64\n",
            " 16  F17     1000 non-null   float64\n",
            " 17  F18     1000 non-null   float64\n",
            " 18  F19     1000 non-null   float64\n",
            " 19  F20     1000 non-null   float64\n",
            " 20  F21     500 non-null    float64\n",
            " 21  Class   1000 non-null   bool   \n",
            "dtypes: bool(1), float64(19), int64(2)\n",
            "memory usage: 165.2 KB\n"
          ]
        }
      ]
    },
    {
      "cell_type": "code",
      "source": [
        "d_train.isnull().mean()*100"
      ],
      "metadata": {
        "colab": {
          "base_uri": "https://localhost:8080/"
        },
        "id": "z958IoIsq-B0",
        "outputId": "ffecba90-a272-49db-f5df-ef8b1083507b"
      },
      "execution_count": 5,
      "outputs": [
        {
          "output_type": "execute_result",
          "data": {
            "text/plain": [
              "F1        0.0\n",
              "F2        0.0\n",
              "F3        0.0\n",
              "F4        0.0\n",
              "F5        0.0\n",
              "F6        0.0\n",
              "F7        0.0\n",
              "F8        0.0\n",
              "F9        0.0\n",
              "F10       0.0\n",
              "F11       0.0\n",
              "F12       0.0\n",
              "F13       0.0\n",
              "F14       0.0\n",
              "F15       0.0\n",
              "F16       0.0\n",
              "F17       0.0\n",
              "F18       0.0\n",
              "F19       0.0\n",
              "F20       0.0\n",
              "F21      50.0\n",
              "Class     0.0\n",
              "dtype: float64"
            ]
          },
          "metadata": {},
          "execution_count": 5
        }
      ]
    },
    {
      "cell_type": "code",
      "source": [
        "plt.figure(figsize = (10,10))\n",
        "corr = d_train.corr()\n",
        "#sns.heatmap(corr, annot = True)\n",
        "sns.heatmap(corr, vmax=0.9, square=True)"
      ],
      "metadata": {
        "colab": {
          "base_uri": "https://localhost:8080/",
          "height": 591
        },
        "id": "oPgdt7OpG1fB",
        "outputId": "72200449-aa4d-49aa-bf03-707efde47ac6"
      },
      "execution_count": 11,
      "outputs": [
        {
          "output_type": "execute_result",
          "data": {
            "text/plain": [
              "<matplotlib.axes._subplots.AxesSubplot at 0x7f1b6610be10>"
            ]
          },
          "metadata": {},
          "execution_count": 11
        },
        {
          "output_type": "display_data",
          "data": {
            "image/png": "[encoded data removed]",
            "text/plain": [
              "<Figure size 720x720 with 2 Axes>"
            ]
          },
          "metadata": {
            "needs_background": "light"
          }
        }
      ]
    },
    {
      "cell_type": "code",
      "source": [
        "d_train['Class'].value_counts()"
      ],
      "metadata": {
        "colab": {
          "base_uri": "https://localhost:8080/"
        },
        "id": "asrcs2j49MCM",
        "outputId": "10396635-8a64-4a39-9a64-2296493471ec"
      },
      "execution_count": 12,
      "outputs": [
        {
          "output_type": "execute_result",
          "data": {
            "text/plain": [
              "True     506\n",
              "False    494\n",
              "Name: Class, dtype: int64"
            ]
          },
          "metadata": {},
          "execution_count": 12
        }
      ]
    },
    {
      "cell_type": "code",
      "source": [
        "plt.figure(figsize=(5,5)) \n",
        "sns.countplot(d_train.Class)"
      ],
      "metadata": {
        "colab": {
          "base_uri": "https://localhost:8080/",
          "height": 405
        },
        "id": "RuhmWW839MK-",
        "outputId": "ad6b7214-7a48-4202-aec0-43ecc06dba33"
      },
      "execution_count": 13,
      "outputs": [
        {
          "output_type": "stream",
          "name": "stderr",
          "text": [
            "/usr/local/lib/python3.7/dist-packages/seaborn/_decorators.py:43: FutureWarning: Pass the following variable as a keyword arg: x. From version 0.12, the only valid positional argument will be `data`, and passing other arguments without an explicit keyword will result in an error or misinterpretation.\n",
            "  FutureWarning\n"
          ]
        },
        {
          "output_type": "execute_result",
          "data": {
            "text/plain": [
              "<matplotlib.axes._subplots.AxesSubplot at 0x7f1b66262450>"
            ]
          },
          "metadata": {},
          "execution_count": 13
        },
        {
          "output_type": "display_data",
          "data": {
            "image/png": "[encoded data removed]",
            "text/plain": [
              "<Figure size 360x360 with 1 Axes>"
            ]
          },
          "metadata": {
            "needs_background": "light"
          }
        }
      ]
    },
    {
      "cell_type": "code",
      "source": [
        "# Boolean variables cast implicitly to integers in python, however still it is better to\n",
        "# convert the boolean Class to numeric for better performance. \n",
        "\n",
        "le = LabelEncoder()\n",
        "d_train['Class'] = le.fit_transform(d_train['Class'])\n",
        "d_train.head()"
      ],
      "metadata": {
        "colab": {
          "base_uri": "https://localhost:8080/",
          "height": 256
        },
        "id": "5-_2RX5Eq-Se",
        "outputId": "d4de9170-33b9-4af1-c010-787c1a85ed33"
      },
      "execution_count": 14,
      "outputs": [
        {
          "output_type": "execute_result",
          "data": {
            "text/html": [
              "\n",
              "  <div id=\"df-afb98d17-517c-4a4c-9ccb-d69c2e615630\">\n",
              "    <div class=\"colab-df-container\">\n",
              "      <div>\n",
              "<style scoped>\n",
              "    .dataframe tbody tr th:only-of-type {\n",
              "        vertical-align: middle;\n",
              "    }\n",
              "\n",
              "    .dataframe tbody tr th {\n",
              "        vertical-align: top;\n",
              "    }\n",
              "\n",
              "    .dataframe thead th {\n",
              "        text-align: right;\n",
              "    }\n",
              "</style>\n",
              "<table border=\"1\" class=\"dataframe\">\n",
              "  <thead>\n",
              "    <tr style=\"text-align: right;\">\n",
              "      <th></th>\n",
              "      <th>F1</th>\n",
              "      <th>F2</th>\n",
              "      <th>F3</th>\n",
              "      <th>F4</th>\n",
              "      <th>F5</th>\n",
              "      <th>F6</th>\n",
              "      <th>F7</th>\n",
              "      <th>F8</th>\n",
              "      <th>F9</th>\n",
              "      <th>F10</th>\n",
              "      <th>F11</th>\n",
              "      <th>F12</th>\n",
              "      <th>F13</th>\n",
              "      <th>F14</th>\n",
              "      <th>F15</th>\n",
              "      <th>F16</th>\n",
              "      <th>F17</th>\n",
              "      <th>F18</th>\n",
              "      <th>F19</th>\n",
              "      <th>F20</th>\n",
              "      <th>F21</th>\n",
              "      <th>Class</th>\n",
              "    </tr>\n",
              "  </thead>\n",
              "  <tbody>\n",
              "    <tr>\n",
              "      <th>0</th>\n",
              "      <td>-28703.964</td>\n",
              "      <td>0.73</td>\n",
              "      <td>-4.051752</td>\n",
              "      <td>-6.99630</td>\n",
              "      <td>1473.45</td>\n",
              "      <td>0</td>\n",
              "      <td>4.40510</td>\n",
              "      <td>16004.16</td>\n",
              "      <td>1</td>\n",
              "      <td>-11645.820</td>\n",
              "      <td>-1.33420</td>\n",
              "      <td>24.44400</td>\n",
              "      <td>-13.735</td>\n",
              "      <td>5.9854</td>\n",
              "      <td>14.24730</td>\n",
              "      <td>1.4892</td>\n",
              "      <td>9959.04</td>\n",
              "      <td>-3199.35</td>\n",
              "      <td>6.8670</td>\n",
              "      <td>-4850.82</td>\n",
              "      <td>NaN</td>\n",
              "      <td>0</td>\n",
              "    </tr>\n",
              "    <tr>\n",
              "      <th>1</th>\n",
              "      <td>-28726.730</td>\n",
              "      <td>1.73</td>\n",
              "      <td>-5.153000</td>\n",
              "      <td>-4.27404</td>\n",
              "      <td>783.15</td>\n",
              "      <td>0</td>\n",
              "      <td>4.54500</td>\n",
              "      <td>16041.48</td>\n",
              "      <td>1</td>\n",
              "      <td>-9759.420</td>\n",
              "      <td>-1.60960</td>\n",
              "      <td>50.59500</td>\n",
              "      <td>-5.171</td>\n",
              "      <td>4.6222</td>\n",
              "      <td>14.99820</td>\n",
              "      <td>3.1206</td>\n",
              "      <td>10107.44</td>\n",
              "      <td>-3064.95</td>\n",
              "      <td>9.4710</td>\n",
              "      <td>378.78</td>\n",
              "      <td>NaN</td>\n",
              "      <td>1</td>\n",
              "    </tr>\n",
              "    <tr>\n",
              "      <th>2</th>\n",
              "      <td>-28717.120</td>\n",
              "      <td>0.73</td>\n",
              "      <td>-8.440000</td>\n",
              "      <td>-8.25900</td>\n",
              "      <td>2573.95</td>\n",
              "      <td>0</td>\n",
              "      <td>3.59962</td>\n",
              "      <td>16422.78</td>\n",
              "      <td>0</td>\n",
              "      <td>-10775.220</td>\n",
              "      <td>-0.49086</td>\n",
              "      <td>38.82552</td>\n",
              "      <td>-38.650</td>\n",
              "      <td>4.4096</td>\n",
              "      <td>17.79000</td>\n",
              "      <td>1.9818</td>\n",
              "      <td>10971.04</td>\n",
              "      <td>-3638.85</td>\n",
              "      <td>2.0373</td>\n",
              "      <td>-5215.48</td>\n",
              "      <td>NaN</td>\n",
              "      <td>0</td>\n",
              "    </tr>\n",
              "    <tr>\n",
              "      <th>3</th>\n",
              "      <td>-81470.290</td>\n",
              "      <td>0.73</td>\n",
              "      <td>-4.386600</td>\n",
              "      <td>-5.57460</td>\n",
              "      <td>1499.68</td>\n",
              "      <td>0</td>\n",
              "      <td>3.56675</td>\n",
              "      <td>16270.04</td>\n",
              "      <td>1</td>\n",
              "      <td>-9416.714</td>\n",
              "      <td>-4.56800</td>\n",
              "      <td>39.59310</td>\n",
              "      <td>-8.639</td>\n",
              "      <td>8.5080</td>\n",
              "      <td>12.98424</td>\n",
              "      <td>11.5620</td>\n",
              "      <td>9681.10</td>\n",
              "      <td>724.95</td>\n",
              "      <td>2.0220</td>\n",
              "      <td>-4378.42</td>\n",
              "      <td>NaN</td>\n",
              "      <td>0</td>\n",
              "    </tr>\n",
              "    <tr>\n",
              "      <th>4</th>\n",
              "      <td>-28750.800</td>\n",
              "      <td>1.73</td>\n",
              "      <td>-4.650200</td>\n",
              "      <td>-4.33848</td>\n",
              "      <td>1409.15</td>\n",
              "      <td>1</td>\n",
              "      <td>5.07000</td>\n",
              "      <td>16548.78</td>\n",
              "      <td>1</td>\n",
              "      <td>-9797.820</td>\n",
              "      <td>-1.02500</td>\n",
              "      <td>39.95820</td>\n",
              "      <td>-14.730</td>\n",
              "      <td>5.5188</td>\n",
              "      <td>13.57260</td>\n",
              "      <td>2.5440</td>\n",
              "      <td>10965.64</td>\n",
              "      <td>-2607.15</td>\n",
              "      <td>4.3140</td>\n",
              "      <td>-1919.22</td>\n",
              "      <td>NaN</td>\n",
              "      <td>1</td>\n",
              "    </tr>\n",
              "  </tbody>\n",
              "</table>\n",
              "</div>\n",
              "      <button class=\"colab-df-convert\" onclick=\"convertToInteractive('df-afb98d17-517c-4a4c-9ccb-d69c2e615630')\"\n",
              "              title=\"Convert this dataframe to an interactive table.\"\n",
              "              style=\"display:none;\">\n",
              "        \n",
              "  <svg xmlns=\"http://www.w3.org/2000/svg\" height=\"24px\"viewBox=\"0 0 24 24\"\n",
              "       width=\"24px\">\n",
              "    <path d=\"M0 0h24v24H0V0z\" fill=\"none\"/>\n",
              "    <path d=\"M18.56 5.44l.94 2.06.94-2.06 2.06-.94-2.06-.94-.94-2.06-.94 2.06-2.06.94zm-11 1L8.5 8.5l.94-2.06 2.06-.94-2.06-.94L8.5 2.5l-.94 2.06-2.06.94zm10 10l.94 2.06.94-2.06 2.06-.94-2.06-.94-.94-2.06-.94 2.06-2.06.94z\"/><path d=\"M17.41 7.96l-1.37-1.37c-.4-.4-.92-.59-1.43-.59-.52 0-1.04.2-1.43.59L10.3 9.45l-7.72 7.72c-.78.78-.78 2.05 0 2.83L4 21.41c.39.39.9.59 1.41.59.51 0 1.02-.2 1.41-.59l7.78-7.78 2.81-2.81c.8-.78.8-2.07 0-2.86zM5.41 20L4 18.59l7.72-7.72 1.47 1.35L5.41 20z\"/>\n",
              "  </svg>\n",
              "      </button>\n",
              "      \n",
              "  <style>\n",
              "    .colab-df-container {\n",
              "      display:flex;\n",
              "      flex-wrap:wrap;\n",
              "      gap: 12px;\n",
              "    }\n",
              "\n",
              "    .colab-df-convert {\n",
              "      background-color: #E8F0FE;\n",
              "      border: none;\n",
              "      border-radius: 50%;\n",
              "      cursor: pointer;\n",
              "      display: none;\n",
              "      fill: #1967D2;\n",
              "      height: 32px;\n",
              "      padding: 0 0 0 0;\n",
              "      width: 32px;\n",
              "    }\n",
              "\n",
              "    .colab-df-convert:hover {\n",
              "      background-color: #E2EBFA;\n",
              "      box-shadow: 0px 1px 2px rgba(60, 64, 67, 0.3), 0px 1px 3px 1px rgba(60, 64, 67, 0.15);\n",
              "      fill: #174EA6;\n",
              "    }\n",
              "\n",
              "    [theme=dark] .colab-df-convert {\n",
              "      background-color: #3B4455;\n",
              "      fill: #D2E3FC;\n",
              "    }\n",
              "\n",
              "    [theme=dark] .colab-df-convert:hover {\n",
              "      background-color: #434B5C;\n",
              "      box-shadow: 0px 1px 3px 1px rgba(0, 0, 0, 0.15);\n",
              "      filter: drop-shadow(0px 1px 2px rgba(0, 0, 0, 0.3));\n",
              "      fill: #FFFFFF;\n",
              "    }\n",
              "  </style>\n",
              "\n",
              "      <script>\n",
              "        const buttonEl =\n",
              "          document.querySelector('#df-afb98d17-517c-4a4c-9ccb-d69c2e615630 button.colab-df-convert');\n",
              "        buttonEl.style.display =\n",
              "          google.colab.kernel.accessAllowed ? 'block' : 'none';\n",
              "\n",
              "        async function convertToInteractive(key) {\n",
              "          const element = document.querySelector('#df-afb98d17-517c-4a4c-9ccb-d69c2e615630');\n",
              "          const dataTable =\n",
              "            await google.colab.kernel.invokeFunction('convertToInteractive',\n",
              "                                                     [key], {});\n",
              "          if (!dataTable) return;\n",
              "\n",
              "          const docLinkHtml = 'Like what you see? Visit the ' +\n",
              "            '<a target=\"_blank\" href=https://colab.research.google.com/notebooks/data_table.ipynb>data table notebook</a>'\n",
              "            + ' to learn more about interactive tables.';\n",
              "          element.innerHTML = '';\n",
              "          dataTable['output_type'] = 'display_data';\n",
              "          await google.colab.output.renderOutput(dataTable, element);\n",
              "          const docLink = document.createElement('div');\n",
              "          docLink.innerHTML = docLinkHtml;\n",
              "          element.appendChild(docLink);\n",
              "        }\n",
              "      </script>\n",
              "    </div>\n",
              "  </div>\n",
              "  "
            ],
            "text/plain": [
              "          F1    F2        F3       F4  ...     F19      F20  F21  Class\n",
              "0 -28703.964  0.73 -4.051752 -6.99630  ...  6.8670 -4850.82  NaN      0\n",
              "1 -28726.730  1.73 -5.153000 -4.27404  ...  9.4710   378.78  NaN      1\n",
              "2 -28717.120  0.73 -8.440000 -8.25900  ...  2.0373 -5215.48  NaN      0\n",
              "3 -81470.290  0.73 -4.386600 -5.57460  ...  2.0220 -4378.42  NaN      0\n",
              "4 -28750.800  1.73 -4.650200 -4.33848  ...  4.3140 -1919.22  NaN      1\n",
              "\n",
              "[5 rows x 22 columns]"
            ]
          },
          "metadata": {},
          "execution_count": 14
        }
      ]
    },
    {
      "cell_type": "code",
      "source": [
        "p = d_train.hist(figsize = (20,20))\n"
      ],
      "metadata": {
        "colab": {
          "base_uri": "https://localhost:8080/",
          "height": 1000
        },
        "id": "JfcF1NeO9qEW",
        "outputId": "e2fb02d5-64bc-4285-9cd1-b2c557f3d22e"
      },
      "execution_count": 18,
      "outputs": [
        {
          "output_type": "display_data",
          "data": {
            "image/png": "[encoded data removed]",
            "text/plain": [
              "<Figure size 1440x1440 with 25 Axes>"
            ]
          },
          "metadata": {
            "needs_background": "light"
          }
        }
      ]
    },
    {
      "cell_type": "code",
      "source": [
        "p=msno.bar(d_train)"
      ],
      "metadata": {
        "colab": {
          "base_uri": "https://localhost:8080/",
          "height": 593
        },
        "id": "YP3qmaQfKgu5",
        "outputId": "a8a30aba-11aa-4471-eab4-6fcf7bc94763"
      },
      "execution_count": 20,
      "outputs": [
        {
          "output_type": "display_data",
          "data": {
            "image/png": "[encoded data removed]",
            "text/plain": [
              "<Figure size 1800x720 with 3 Axes>"
            ]
          },
          "metadata": {
            "needs_background": "light"
          }
        }
      ]
    },
    {
      "cell_type": "code",
      "source": [
        "d_train = d_train.drop(['F21'], axis=1)"
      ],
      "metadata": {
        "id": "2KGJuclHsRqT"
      },
      "execution_count": 15,
      "outputs": []
    },
    {
      "cell_type": "code",
      "source": [
        "x = d_train.drop(['Class'], axis = 1).values\n",
        "y = d_train['Class'].values\n",
        "\n",
        "print(x.shape)\n",
        "print(y.shape) "
      ],
      "metadata": {
        "colab": {
          "base_uri": "https://localhost:8080/"
        },
        "id": "Vg5AHX9SvER1",
        "outputId": "51613626-dfd1-47f1-9b47-9bc7bff89ec6"
      },
      "execution_count": 16,
      "outputs": [
        {
          "output_type": "stream",
          "name": "stdout",
          "text": [
            "(1000, 20)\n",
            "(1000,)\n"
          ]
        }
      ]
    },
    {
      "cell_type": "code",
      "source": [
        "x_train, x_test, y_train, y_test = train_test_split(x,y , test_size= 0.3, random_state=42)"
      ],
      "metadata": {
        "id": "D0aW_iAXw1df"
      },
      "execution_count": 17,
      "outputs": []
    },
    {
      "cell_type": "markdown",
      "source": [
        "Models"
      ],
      "metadata": {
        "id": "MIiP5KTWlbAN"
      }
    },
    {
      "cell_type": "code",
      "source": [
        "DC = DecisionTreeClassifier(random_state=43)\n",
        "DC.fit(x_train, y_train)\n",
        "y_p = DC.predict(x_test)\n",
        "acc = accuracy_score(y_test, y_p)\n",
        "print('Accuracy', acc)"
      ],
      "metadata": {
        "colab": {
          "base_uri": "https://localhost:8080/"
        },
        "id": "iSsWycvZyBbO",
        "outputId": "32f03ba4-f022-4290-ba2a-0d909994d271"
      },
      "execution_count": 18,
      "outputs": [
        {
          "output_type": "stream",
          "name": "stdout",
          "text": [
            "Accuracy 0.8266666666666667\n"
          ]
        }
      ]
    },
    {
      "cell_type": "code",
      "source": [
        "rfc = RandomForestClassifier(random_state=42)\n",
        "rfc.fit(x_train, y_train)\n",
        "y_pred = rfc.predict(x_test)\n",
        "ac = accuracy_score(y_test, y_pred)\n",
        "print('Accuracy', ac)"
      ],
      "metadata": {
        "colab": {
          "base_uri": "https://localhost:8080/"
        },
        "id": "Mgw-EnM5x9s8",
        "outputId": "656bc7ba-f847-444c-d213-d2ca45c9db78"
      },
      "execution_count": 19,
      "outputs": [
        {
          "output_type": "stream",
          "name": "stdout",
          "text": [
            "Accuracy 0.87\n"
          ]
        }
      ]
    },
    {
      "cell_type": "code",
      "source": [
        "#SVC 1\n",
        "svm = SVC(kernel = 'linear', gamma=0.0001, C=100., random_state = 42)\n",
        "svm.fit(x_train, y_train)\n",
        "y_pr = svm.predict(x_test)\n",
        "acd = accuracy_score(y_test, y_pr)\n",
        "print('Accuracy', acd)"
      ],
      "metadata": {
        "colab": {
          "base_uri": "https://localhost:8080/"
        },
        "id": "hknpTe0Mx9xu",
        "outputId": "b4003e9e-8334-4ece-fc67-d90223c0532e"
      },
      "execution_count": 178,
      "outputs": [
        {
          "output_type": "stream",
          "name": "stdout",
          "text": [
            "Accuracy 0.66\n"
          ]
        }
      ]
    },
    {
      "cell_type": "code",
      "source": [
        "xgb = XGBClassifier(n_estimators = 10 ,learning_rate = 0.1,max_depth = 9 ,alpha = 5,random_state = 42)\n",
        "xgb.fit(x_train, y_train)\n",
        "y_xgb = xgb.predict(x_test)\n",
        "acd = accuracy_score(y_test, y_xgb)\n",
        "print('Accuracy', acd)\n",
        "print(classification_report(y_test, y_xgb))"
      ],
      "metadata": {
        "colab": {
          "base_uri": "https://localhost:8080/"
        },
        "id": "FX2kEPHwTkP4",
        "outputId": "77e329f9-b806-46b2-bddd-804849fa8fe0"
      },
      "execution_count": 20,
      "outputs": [
        {
          "output_type": "stream",
          "name": "stdout",
          "text": [
            "Accuracy 0.9133333333333333\n",
            "              precision    recall  f1-score   support\n",
            "\n",
            "           0       0.92      0.90      0.91       144\n",
            "           1       0.91      0.92      0.92       156\n",
            "\n",
            "    accuracy                           0.91       300\n",
            "   macro avg       0.91      0.91      0.91       300\n",
            "weighted avg       0.91      0.91      0.91       300\n",
            "\n"
          ]
        }
      ]
    },
    {
      "cell_type": "code",
      "source": [
        "#SVC2\n",
        "clf = SVC(gamma=0.01, C=10.)\n",
        "Cs = np.logspace(-1, 3, 5)  # five logarithmically spaced values of C\n",
        "Gs = np.logspace(-7, -0, 5)  # five logarithmically spaced values of gamma\n",
        "clf = GridSearchCV(estimator=clf, param_grid=dict(C=Cs, gamma=Gs), n_jobs=-1)\n",
        "\n",
        "clf.fit(x_train, y_train)\n",
        "clf.score(x_train, y_train)"
      ],
      "metadata": {
        "colab": {
          "base_uri": "https://localhost:8080/"
        },
        "id": "CJO1jTQdbcLq",
        "outputId": "2ba6f69f-cc5b-4efc-c586-96eecbd076d0"
      },
      "execution_count": 180,
      "outputs": [
        {
          "output_type": "execute_result",
          "data": {
            "text/plain": [
              "0.7828571428571428"
            ]
          },
          "metadata": {},
          "execution_count": 180
        }
      ]
    },
    {
      "cell_type": "code",
      "source": [
        "knn = KNeighborsClassifier(n_neighbors=5)\n",
        "knn.fit(x_train, y_train)\n",
        "y_prr = knn.predict(x_test)\n",
        "acd = accuracy_score(y_test, y_prr)\n",
        "print('Accuracy', acd)"
      ],
      "metadata": {
        "colab": {
          "base_uri": "https://localhost:8080/"
        },
        "id": "wLM51X42fIKk",
        "outputId": "4b3bfd95-ab5e-46a5-cca3-347b7c5b0a10"
      },
      "execution_count": 181,
      "outputs": [
        {
          "output_type": "stream",
          "name": "stdout",
          "text": [
            "Accuracy 0.6733333333333333\n"
          ]
        }
      ]
    },
    {
      "cell_type": "markdown",
      "source": [
        "ML Techniques"
      ],
      "metadata": {
        "id": "H5WyqNgulCgM"
      }
    },
    {
      "cell_type": "code",
      "source": [
        "models = []\n",
        "results = []\n",
        "names = []\n",
        "\n",
        "models.append(('DT', DecisionTreeClassifier(),\n",
        "               {'criterion': ['entropy', 'gini'], 'max_depth': [None, 10, 15]}))\n",
        "\n",
        "models.append(('SVC', SVC(gamma=0.01, C=10),\n",
        "               {'gamma': np.logspace(-7, -0, 5), 'C': np.logspace(-1, 3, 5)}))\n",
        "\n",
        "models.append(('RFC', RandomForestClassifier(),\n",
        "               {'n_estimators': np.linspace(100, 300, 5, dtype=int),'max_depth': [None, 10, 15]}))\n",
        "\n",
        "models.append(('XGB', XGBClassifier(n_estimators = 10 ,learning_rate = 0.1, max_depth = 9 ,alpha = 5,random_state = 42),\n",
        "              {'max_bin':[256]}))\n",
        "\n",
        "models.append(('KNN', KNeighborsClassifier(n_neighbors=5),\n",
        "               {'leaf_size':[30]}))"
      ],
      "metadata": {
        "id": "tjvobH3mVO9q"
      },
      "execution_count": 10,
      "outputs": []
    },
    {
      "cell_type": "code",
      "source": [
        "for name, model, classifier_params in models:\n",
        "    #creating a pipeline for transformation and data fitting.\n",
        "    pipe = Pipeline(steps=[('imputer', SimpleImputer()),\n",
        "                       ('scaler', StandardScaler()),\n",
        "                       ('classifier', model)])\n",
        "    \n",
        "    #preparing parameters for parameter tuning in GridSearchCV\n",
        "    pipe_params = {'scaler__with_std' : [True, False]}\n",
        "    for param in classifier_params.items():\n",
        "        pipe_params[f'classifier__{param[0]}'] = param[1]\n",
        "    \n",
        "    grid = GridSearchCV(pipe, param_grid=pipe_params, n_jobs=-1)\n",
        "    grid.fit(x, y)\n",
        "    \n",
        "    #Recording results and evaluating a model with best parameters found\n",
        "    scores = cross_val_score(grid.best_estimator_, x, y, scoring='accuracy')\n",
        "    results.append(scores)\n",
        "    names.append(name)\n",
        "    msg = \"%s: %f (%f)\" % (name, scores.mean()*100, scores.std())\n",
        "    print(msg)\n",
        "    "
      ],
      "metadata": {
        "colab": {
          "base_uri": "https://localhost:8080/"
        },
        "id": "pp_f1zIMVQXq",
        "outputId": "bd03d0ec-1570-40da-9184-1380ff0499ec"
      },
      "execution_count": 11,
      "outputs": [
        {
          "output_type": "stream",
          "name": "stdout",
          "text": [
            "DT: 83.000000 (0.024698)\n",
            "SVC: 74.500000 (0.030496)\n",
            "RFC: 85.500000 (0.014142)\n",
            "XGB: 88.400000 (0.008000)\n",
            "KNN: 65.600000 (0.013928)\n"
          ]
        }
      ]
    },
    {
      "cell_type": "code",
      "source": [
        "#print(results)\n",
        "#print(names)\n",
        "# boxplot algorithm comparison\n",
        "fig = plt.figure(figsize=(10,7))\n",
        "fig.suptitle('Algorithm Comparison')\n",
        "ax = fig.add_subplot(111)\n",
        "plt.boxplot(results)\n",
        "ax.set_xticklabels(names)\n",
        "plt.show()"
      ],
      "metadata": {
        "colab": {
          "base_uri": "https://localhost:8080/",
          "height": 533
        },
        "id": "jhXM851n7yTq",
        "outputId": "7c882b79-d2f5-4c7b-c459-c138ac0d8daa"
      },
      "execution_count": 19,
      "outputs": [
        {
          "output_type": "stream",
          "name": "stdout",
          "text": [
            "[array([0.785, 0.83 , 0.83 , 0.85 , 0.855]), array([0.71 , 0.745, 0.745, 0.725, 0.8  ]), array([0.845, 0.88 , 0.86 , 0.85 , 0.84 ]), array([0.89 , 0.875, 0.895, 0.875, 0.885]), array([0.645, 0.64 , 0.68 , 0.655, 0.66 ])]\n",
            "['DT', 'SVC', 'RFC', 'XGB', 'KNN']\n"
          ]
        },
        {
          "output_type": "display_data",
          "data": {
            "image/png": "[encoded data removed]",
            "text/plain": [
              "<Figure size 720x504 with 1 Axes>"
            ]
          },
          "metadata": {
            "needs_background": "light"
          }
        }
      ]
    },
    {
      "cell_type": "code",
      "source": [
        "xgb_model = models[3][1]\n",
        "#print(xgb_model)\n",
        "xgb_model.fit(x,y)"
      ],
      "metadata": {
        "colab": {
          "base_uri": "https://localhost:8080/"
        },
        "id": "r3B1lKa0Y3Ur",
        "outputId": "c6d14b58-c748-4f70-bd95-6003ee058956"
      },
      "execution_count": 14,
      "outputs": [
        {
          "output_type": "execute_result",
          "data": {
            "text/plain": [
              "XGBClassifier(alpha=5, max_depth=9, n_estimators=10, random_state=42)"
            ]
          },
          "metadata": {},
          "execution_count": 14
        }
      ]
    },
    {
      "cell_type": "markdown",
      "metadata": {
        "id": "jznYiRiramz4"
      },
      "source": [
        "### Part B"
      ]
    },
    {
      "cell_type": "code",
      "execution_count": 23,
      "metadata": {
        "colab": {
          "base_uri": "https://localhost:8080/"
        },
        "id": "7sNSjlYZamz5",
        "outputId": "1b357fdc-b7d1-4dab-a95b-9d5d8689a6b6"
      },
      "outputs": [
        {
          "output_type": "stream",
          "name": "stdout",
          "text": [
            "(1000,)\n"
          ]
        }
      ],
      "source": [
        "# HERE YOU WILL USE THIS TEMPLATE TO SAVE THE PREDICTIONS ON THE TEST SET\n",
        "\n",
        "# Load the test data\n",
        "#test_df = pd.read_csv('CE802_P2_Test.csv')\n",
        "test_df = pd.read_csv('/content/CE802_P2_Test.csv')\n",
        "# test_df.head()\n",
        "# Make sure you work on a copy\n",
        "test_df = test_df.drop(['F21'], axis=1)\n",
        "# test_df.head()\n",
        "\n",
        "test_data = test_df.iloc[:,:-1].copy()\n",
        "# print(test_data)\n",
        "#predicted = ... # CHANGE HERE -- use your previously trained predictor and apply it to test_data\n",
        "                # (test_data can be modified if needed but make sure you don't change the order of the rows)...\n",
        "predicted = xgb_model.predict(test_data.values)\n",
        "print(np.shape(predicted))\n",
        "# Replace the last (empty) column with your prediction\n",
        "test_df.iloc[:,-1] = predicted\n",
        "\n",
        "# Save to the destination file\n",
        "test_df.to_csv('CE802_P2_Test_Predictions.csv', index=False, float_format='%.8g')\n",
        "\n",
        "# IMPORTANT!! Make sure only the last column has changed\n",
        "assert pd.read_csv('/content/CE802_P2_Test.csv').iloc[:,:1].equals(pd.read_csv('/content/CE802_P2_Test_Predictions.csv').iloc[:,:1])"
      ]
    },
    {
      "cell_type": "code",
      "source": [
        ""
      ],
      "metadata": {
        "id": "U8nQBDfgQdLj"
      },
      "execution_count": null,
      "outputs": []
    }
  ],
  "metadata": {
    "kernelspec": {
      "display_name": "Python 3",
      "language": "python",
      "name": "python3"
    },
    "language_info": {
      "codemirror_mode": {
        "name": "ipython",
        "version": 3
      },
      "file_extension": ".py",
      "mimetype": "text/x-python",
      "name": "python",
      "nbconvert_exporter": "python",
      "pygments_lexer": "ipython3",
      "version": "3.7.9"
    },
    "colab": {
      "name": "CE802_P2_Notebook.ipynb",
      "provenance": [],
      "collapsed_sections": []
    }
  },
  "nbformat": 4,
  "nbformat_minor": 0
}